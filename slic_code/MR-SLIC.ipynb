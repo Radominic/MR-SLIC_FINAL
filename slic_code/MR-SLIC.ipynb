{
 "cells": [
  {
   "cell_type": "code",
   "execution_count": 5,
   "metadata": {
    "collapsed": false,
    "scrolled": false
   },
   "outputs": [
    {
     "name": "stdout",
     "output_type": "stream",
     "text": [
      "[0.5281119346618652, 0.5544068813323975, 0.48056459426879883, 0.500455379486084]\n",
      "0.5782177448272705\n"
     ]
    }
   ],
   "source": [
    "# USAGE\n",
    "# MR-SLIC_original\n",
    "\n",
    "from skimage.segmentation import mark_boundaries\n",
    "from skimage import io\n",
    "\n",
    "import time\n",
    "from skimage.segmentation import slic\n",
    "from PIL import Image\n",
    "from skimage.util import img_as_float\n",
    "\n",
    "\n",
    "\n",
    "#number of partition\n",
    "partition = 4\n",
    "\n",
    "#resource file name\n",
    "k=['house1','house2','house3','house4']\n",
    "\n",
    "\n",
    "\n",
    "# loop over the number of segments\n",
    "numSegments = 500\n",
    "\n",
    "\n",
    "def Map(k):\n",
    "    #time check\n",
    "    start_time = time.time()\n",
    "    #read image\n",
    "    img = Image.open('/home/gangmin/MR-SLIC_NEW/resource/' + k +'.jpg')\n",
    "    image = img_as_float(img)\n",
    "    \n",
    "    segments = slic(image, n_segments = numSegments, sigma = 5)\n",
    "    \n",
    "    finish_time = time.time()\n",
    "    print(finish_time-start_time)\n",
    "    return finish_time-start_time\n",
    "stime = time.time()\n",
    "ttime = sc.parallelize(k,partition).map(Map).collect()\n",
    "ftime = time.time()\n",
    "print(ttime)\n",
    "print(ftime-stime)\n"
   ]
  },
  {
   "cell_type": "code",
   "execution_count": null,
   "metadata": {
    "collapsed": true
   },
   "outputs": [],
   "source": []
  }
 ],
 "metadata": {
  "kernelspec": {
   "display_name": "Python 3",
   "language": "python",
   "name": "python3"
  },
  "language_info": {
   "codemirror_mode": {
    "name": "ipython",
    "version": 3
   },
   "file_extension": ".py",
   "mimetype": "text/x-python",
   "name": "python",
   "nbconvert_exporter": "python",
   "pygments_lexer": "ipython3",
   "version": "3.6.0"
  }
 },
 "nbformat": 4,
 "nbformat_minor": 2
}
